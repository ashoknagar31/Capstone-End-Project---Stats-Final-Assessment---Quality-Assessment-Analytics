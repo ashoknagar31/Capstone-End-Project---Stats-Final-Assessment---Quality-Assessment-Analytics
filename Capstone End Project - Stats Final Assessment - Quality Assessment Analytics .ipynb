{
 "cells": [
  {
   "cell_type": "code",
   "execution_count": 1,
   "id": "7833a442",
   "metadata": {},
   "outputs": [
    {
     "name": "stdout",
     "output_type": "stream",
     "text": [
      "First few rows of the DataFrame:\n"
     ]
    },
    {
     "data": {
      "text/html": [
       "<div>\n",
       "<style scoped>\n",
       "    .dataframe tbody tr th:only-of-type {\n",
       "        vertical-align: middle;\n",
       "    }\n",
       "\n",
       "    .dataframe tbody tr th {\n",
       "        vertical-align: top;\n",
       "    }\n",
       "\n",
       "    .dataframe thead th {\n",
       "        text-align: right;\n",
       "    }\n",
       "</style>\n",
       "<table border=\"1\" class=\"dataframe\">\n",
       "  <thead>\n",
       "    <tr style=\"text-align: right;\">\n",
       "      <th></th>\n",
       "      <th>Id</th>\n",
       "      <th>Assembly Line</th>\n",
       "      <th>Quantity (lts.)</th>\n",
       "      <th>CO2 dissolved</th>\n",
       "      <th>Time limit Crossed</th>\n",
       "    </tr>\n",
       "  </thead>\n",
       "  <tbody>\n",
       "    <tr>\n",
       "      <th>0</th>\n",
       "      <td>1263945</td>\n",
       "      <td>B</td>\n",
       "      <td>1.971072</td>\n",
       "      <td>14.401617</td>\n",
       "      <td>0</td>\n",
       "    </tr>\n",
       "    <tr>\n",
       "      <th>1</th>\n",
       "      <td>1828129</td>\n",
       "      <td>B</td>\n",
       "      <td>2.073388</td>\n",
       "      <td>14.137750</td>\n",
       "      <td>0</td>\n",
       "    </tr>\n",
       "    <tr>\n",
       "      <th>2</th>\n",
       "      <td>1871804</td>\n",
       "      <td>A</td>\n",
       "      <td>2.019492</td>\n",
       "      <td>14.774384</td>\n",
       "      <td>0</td>\n",
       "    </tr>\n",
       "    <tr>\n",
       "      <th>3</th>\n",
       "      <td>1128634</td>\n",
       "      <td>A</td>\n",
       "      <td>2.004422</td>\n",
       "      <td>15.130565</td>\n",
       "      <td>0</td>\n",
       "    </tr>\n",
       "    <tr>\n",
       "      <th>4</th>\n",
       "      <td>1848595</td>\n",
       "      <td>B</td>\n",
       "      <td>2.025784</td>\n",
       "      <td>15.756478</td>\n",
       "      <td>0</td>\n",
       "    </tr>\n",
       "    <tr>\n",
       "      <th>5</th>\n",
       "      <td>1960254</td>\n",
       "      <td>B</td>\n",
       "      <td>2.070400</td>\n",
       "      <td>12.940620</td>\n",
       "      <td>0</td>\n",
       "    </tr>\n",
       "    <tr>\n",
       "      <th>6</th>\n",
       "      <td>1669282</td>\n",
       "      <td>B</td>\n",
       "      <td>NaN</td>\n",
       "      <td>16.664851</td>\n",
       "      <td>0</td>\n",
       "    </tr>\n",
       "    <tr>\n",
       "      <th>7</th>\n",
       "      <td>1036391</td>\n",
       "      <td>B</td>\n",
       "      <td>1.903055</td>\n",
       "      <td>12.604429</td>\n",
       "      <td>1</td>\n",
       "    </tr>\n",
       "    <tr>\n",
       "      <th>8</th>\n",
       "      <td>1874678</td>\n",
       "      <td>A</td>\n",
       "      <td>1.990956</td>\n",
       "      <td>14.972120</td>\n",
       "      <td>0</td>\n",
       "    </tr>\n",
       "    <tr>\n",
       "      <th>9</th>\n",
       "      <td>1619807</td>\n",
       "      <td>A</td>\n",
       "      <td>2.014521</td>\n",
       "      <td>12.645058</td>\n",
       "      <td>0</td>\n",
       "    </tr>\n",
       "  </tbody>\n",
       "</table>\n",
       "</div>"
      ],
      "text/plain": [
       "        Id Assembly Line  Quantity (lts.)  CO2 dissolved  Time limit Crossed\n",
       "0  1263945             B         1.971072      14.401617                   0\n",
       "1  1828129             B         2.073388      14.137750                   0\n",
       "2  1871804             A         2.019492      14.774384                   0\n",
       "3  1128634             A         2.004422      15.130565                   0\n",
       "4  1848595             B         2.025784      15.756478                   0\n",
       "5  1960254             B         2.070400      12.940620                   0\n",
       "6  1669282             B              NaN      16.664851                   0\n",
       "7  1036391             B         1.903055      12.604429                   1\n",
       "8  1874678             A         1.990956      14.972120                   0\n",
       "9  1619807             A         2.014521      12.645058                   0"
      ]
     },
     "execution_count": 1,
     "metadata": {},
     "output_type": "execute_result"
    }
   ],
   "source": [
    "import pandas as pd\n",
    "import numpy as np\n",
    "import matplotlib.pyplot as plt\n",
    "import seaborn as sns\n",
    "import warnings\n",
    "warnings.filterwarnings('ignore')\n",
    "company_data = pd.read_csv(r'C:\\Users\\ASHOK\\Downloads\\Quality Assessment.csv')\n",
    "print(\"First few rows of the DataFrame:\")\n",
    "company_data.head(10)"
   ]
  },
  {
   "cell_type": "code",
   "execution_count": 2,
   "id": "957f642d",
   "metadata": {},
   "outputs": [
    {
     "name": "stdout",
     "output_type": "stream",
     "text": [
      "There are 299 observations.\n"
     ]
    }
   ],
   "source": [
    "# How many observations are there in the dataset?\n",
    "num_observations = company_data.shape[0]\n",
    "print(f'There are {num_observations} observations.')"
   ]
  },
  {
   "cell_type": "code",
   "execution_count": 3,
   "id": "db0bc103",
   "metadata": {},
   "outputs": [
    {
     "name": "stdout",
     "output_type": "stream",
     "text": [
      "Missing values count in each column:\n",
      "Id                    0\n",
      "Assembly Line         0\n",
      "Quantity (lts.)       6\n",
      "CO2 dissolved         0\n",
      "Time limit Crossed    0\n",
      "dtype: int64\n",
      "\n",
      "Missing values percentage in each column with:\n",
      "Id                    0.000000\n",
      "Assembly Line         0.000000\n",
      "Quantity (lts.)       2.006689\n",
      "CO2 dissolved         0.000000\n",
      "Time limit Crossed    0.000000\n",
      "dtype: float64\n"
     ]
    }
   ],
   "source": [
    "# How many features have missing values?\n",
    "print(\"Missing values count in each column:\")\n",
    "print(company_data.isnull().sum())\n",
    "print()\n",
    "print('Missing values percentage in each column with:')\n",
    "print(company_data.isnull().sum() *100/company_data.shape[0])"
   ]
  },
  {
   "cell_type": "code",
   "execution_count": 4,
   "id": "01457577",
   "metadata": {},
   "outputs": [
    {
     "name": "stdout",
     "output_type": "stream",
     "text": [
      "Duplicate values count in the Dataframe: 0\n",
      "False\n"
     ]
    }
   ],
   "source": [
    "# Choose True or False for the statement below.\n",
    "# ‘There are duplicates in the dataset.’\n",
    "company_data.duplicated().sum()\n",
    "print(\"Duplicate values count in the Dataframe:\",company_data.duplicated().sum())\n",
    "if company_data.duplicated().sum() == 0:\n",
    "  print('False')\n",
    "else:\n",
    "  print('True')"
   ]
  },
  {
   "cell_type": "code",
   "execution_count": 5,
   "id": "2a53e024",
   "metadata": {},
   "outputs": [
    {
     "name": "stdout",
     "output_type": "stream",
     "text": [
      "The median for the quantity feature is: 1.998\n"
     ]
    }
   ],
   "source": [
    "# What is the median for the quantity feature? Round it off to 3 decimal places.\n",
    "median_of_quantity = round(company_data['Quantity (lts.)'].median(),3)\n",
    "print('The median for the quantity feature is:',median_of_quantity)"
   ]
  },
  {
   "cell_type": "code",
   "execution_count": 6,
   "id": "3e383868",
   "metadata": {},
   "outputs": [
    {
     "name": "stdout",
     "output_type": "stream",
     "text": [
      "The range of CO2 dissolved feature is: 147.93\n"
     ]
    }
   ],
   "source": [
    "# What is the range of CO2 dissolved feature? Please round it off to 2 decimal places.\n",
    "CO2_dissolved_min = company_data['CO2 dissolved'].min()\n",
    "CO2_dissolved_max = company_data['CO2 dissolved'].max()\n",
    "range_of_CO2 = round((CO2_dissolved_max - CO2_dissolved_min), 2)\n",
    "print('The range of CO2 dissolved feature is:', range_of_CO2)"
   ]
  },
  {
   "cell_type": "code",
   "execution_count": 7,
   "id": "f39fe916",
   "metadata": {},
   "outputs": [
    {
     "name": "stdout",
     "output_type": "stream",
     "text": [
      "Outliers in the CO2 dissolved feature is: [120.1075286, 120.5028891, 2.25345405, 130.1797706, 150.180978, 140.2333676]\n"
     ]
    }
   ],
   "source": [
    "# Choose True or False for the statement below.\n",
    "# ‘There are outliers in the CO2 dissolved feature.’\n",
    "Q1 = company_data['CO2 dissolved'].quantile(0.25) # Calculate the first quartile (Q1)\n",
    "\n",
    "Q3 = company_data['CO2 dissolved'].quantile(0.75) # Calculate the third quartile (Q3)\n",
    "\n",
    "IQR = Q3 - Q1 # Calculate the Interquartile Range (IQR)\n",
    "\n",
    "upper_cutoff = Q3 + 1.5 * IQR # Calculate the upper cutoff\n",
    "\n",
    "lower_cutoff = Q1 - 1.5 * IQR # Calculate the lower cutoff\n",
    "\n",
    "outliers = [x for x in company_data['CO2 dissolved'] if x < lower_cutoff or x > upper_cutoff]\n",
    "\n",
    "print('Outliers in the CO2 dissolved feature is:',outliers)"
   ]
  },
  {
   "cell_type": "code",
   "execution_count": 8,
   "id": "5a4976e3",
   "metadata": {},
   "outputs": [
    {
     "name": "stdout",
     "output_type": "stream",
     "text": [
      "The cardinality of the Rating variable in the dataset is: 4\n"
     ]
    }
   ],
   "source": [
    "# What is the cardinality of the Assembly line feature in the dataset?\n",
    "cardinality = company_data['Assembly Line'].nunique()\n",
    "print('The cardinality of the Rating variable in the dataset is:',cardinality)"
   ]
  },
  {
   "cell_type": "markdown",
   "id": "7d18b2fa",
   "metadata": {},
   "source": [
    "# Data Cleaning:"
   ]
  },
  {
   "cell_type": "code",
   "execution_count": 9,
   "id": "a074e624",
   "metadata": {},
   "outputs": [
    {
     "name": "stdout",
     "output_type": "stream",
     "text": [
      "Cardinality after standardise: ['B' 'A']\n"
     ]
    }
   ],
   "source": [
    "# Standardise the Assembly Line column: Make the column consistent so that it has cardinality of 2.\n",
    "# [Hint: Use ‘B’ in place of ‘b’ and ‘A’ in place of ‘a’]\n",
    "company_data['Assembly Line'] = company_data['Assembly Line'].replace({'b' : 'B', 'a' : 'A'})\n",
    "cardinality_after = company_data['Assembly Line'].unique()\n",
    "print('Cardinality after standardise:',cardinality_after)"
   ]
  },
  {
   "cell_type": "code",
   "execution_count": 10,
   "id": "978ac34f",
   "metadata": {},
   "outputs": [
    {
     "name": "stdout",
     "output_type": "stream",
     "text": [
      "Id                    0\n",
      "Assembly Line         0\n",
      "Quantity (lts.)       0\n",
      "CO2 dissolved         0\n",
      "Time limit Crossed    0\n",
      "dtype: int64\n"
     ]
    }
   ],
   "source": [
    "# Remove any empty or incomplete rows: Check if there are any rows with missing data.\n",
    "# Substitute these values with the mean of numerical or mode for non-numerical data with respect to individual assembly lines.\n",
    "company_data['Quantity (lts.)'].fillna(company_data['Quantity (lts.)'].mean(), inplace=True)\n",
    "print(company_data.isnull().sum())"
   ]
  },
  {
   "cell_type": "code",
   "execution_count": 12,
   "id": "80c4d42e",
   "metadata": {},
   "outputs": [
    {
     "data": {
      "text/html": [
       "<div>\n",
       "<style scoped>\n",
       "    .dataframe tbody tr th:only-of-type {\n",
       "        vertical-align: middle;\n",
       "    }\n",
       "\n",
       "    .dataframe tbody tr th {\n",
       "        vertical-align: top;\n",
       "    }\n",
       "\n",
       "    .dataframe thead th {\n",
       "        text-align: right;\n",
       "    }\n",
       "</style>\n",
       "<table border=\"1\" class=\"dataframe\">\n",
       "  <thead>\n",
       "    <tr style=\"text-align: right;\">\n",
       "      <th></th>\n",
       "      <th>Id</th>\n",
       "      <th>Assembly Line</th>\n",
       "      <th>Quantity (lts.)</th>\n",
       "      <th>CO2 dissolved</th>\n",
       "      <th>Time limit Crossed</th>\n",
       "    </tr>\n",
       "  </thead>\n",
       "  <tbody>\n",
       "    <tr>\n",
       "      <th>0</th>\n",
       "      <td>1263945</td>\n",
       "      <td>B</td>\n",
       "      <td>1.971072</td>\n",
       "      <td>14.401617</td>\n",
       "      <td>0</td>\n",
       "    </tr>\n",
       "    <tr>\n",
       "      <th>1</th>\n",
       "      <td>1828129</td>\n",
       "      <td>B</td>\n",
       "      <td>2.073388</td>\n",
       "      <td>14.137750</td>\n",
       "      <td>0</td>\n",
       "    </tr>\n",
       "    <tr>\n",
       "      <th>2</th>\n",
       "      <td>1871804</td>\n",
       "      <td>A</td>\n",
       "      <td>2.019492</td>\n",
       "      <td>14.774384</td>\n",
       "      <td>0</td>\n",
       "    </tr>\n",
       "    <tr>\n",
       "      <th>3</th>\n",
       "      <td>1128634</td>\n",
       "      <td>A</td>\n",
       "      <td>2.004422</td>\n",
       "      <td>15.130565</td>\n",
       "      <td>0</td>\n",
       "    </tr>\n",
       "    <tr>\n",
       "      <th>4</th>\n",
       "      <td>1848595</td>\n",
       "      <td>B</td>\n",
       "      <td>2.025784</td>\n",
       "      <td>15.756478</td>\n",
       "      <td>0</td>\n",
       "    </tr>\n",
       "  </tbody>\n",
       "</table>\n",
       "</div>"
      ],
      "text/plain": [
       "        Id Assembly Line  Quantity (lts.)  CO2 dissolved  Time limit Crossed\n",
       "0  1263945             B         1.971072      14.401617                   0\n",
       "1  1828129             B         2.073388      14.137750                   0\n",
       "2  1871804             A         2.019492      14.774384                   0\n",
       "3  1128634             A         2.004422      15.130565                   0\n",
       "4  1848595             B         2.025784      15.756478                   0"
      ]
     },
     "execution_count": 12,
     "metadata": {},
     "output_type": "execute_result"
    }
   ],
   "source": [
    "# Check for Outliers: Check for outliers in the dataset and does it make logical sense to keep them or should we treat them?\n",
    "data_no_outliers = company_data[(company_data['CO2 dissolved'] >= lower_cutoff) & (company_data['CO2 dissolved'] <= upper_cutoff)]\n",
    "data_no_outliers.head()"
   ]
  },
  {
   "cell_type": "code",
   "execution_count": 13,
   "id": "6c3e9702",
   "metadata": {},
   "outputs": [
    {
     "name": "stdout",
     "output_type": "stream",
     "text": [
      "The total numbers of time limits crossed in the given records is: 54\n"
     ]
    }
   ],
   "source": [
    "# Calculate the total numbers of time limits crossed in the given records?\n",
    "total_numbers_of_time_limits_crossed = data_no_outliers['Time limit Crossed'].sum()\n",
    "print('The total numbers of time limits crossed in the given records is:',total_numbers_of_time_limits_crossed)"
   ]
  },
  {
   "cell_type": "code",
   "execution_count": 14,
   "id": "ffce5c83",
   "metadata": {},
   "outputs": [
    {
     "data": {
      "image/png": "[encoded data removed]",
      "text/plain": [
       "<Figure size 1200x400 with 2 Axes>"
      ]
     },
     "metadata": {},
     "output_type": "display_data"
    }
   ],
   "source": [
    "# Please select the correct distribution plots for Quantity in litres.\n",
    "fig, axes = plt.subplots(1, 2, figsize=(12, 4))\n",
    "sns.histplot(data_no_outliers['Quantity (lts.)'], bins=12, kde=True, stat='density', ax=axes[0])\n",
    "axes[0].set_xlabel(\"Quantity (lts.)\")\n",
    "axes[0].set_ylabel(\"Density\")\n",
    "axes[0].set_title(\"Histogram\")\n",
    "sns.boxplot(x = data_no_outliers['Quantity (lts.)'], data = data_no_outliers, ax=axes[1]).set(title = 'Boxplot')\n",
    "plt.tight_layout()\n",
    "plt.show()"
   ]
  },
  {
   "cell_type": "markdown",
   "id": "149c13f1",
   "metadata": {},
   "source": [
    "Purpose: What do we achieve by analysing these distribution charts? If you closely take a look in these distribution charts, you can clearly see that we witness approximately normal distribution within quantity while the same is overshadowed due to presence of outliers in CO2 dissolved. On top of that, the extremes in carbonation values seems unreasonable and therefore would require a proper treatment in later stages.\n",
    "\n",
    "A histogram will give you a peek into how your distribution looks like. You can define the number of peaks which means it can be a unimodal, bimodal or multimodal distribution depending on the peaks involved.\n",
    "\n",
    "A box plot on the other hand helps you understand min, max and interquartile range where most of the data is centred around.\n",
    "\n",
    "With these 2 charts, you can easily understand the extremes involved in the data. Do understand that extremes/outliers require some thoughtful investigation before we actually take the decision of removing/retaining them."
   ]
  },
  {
   "cell_type": "code",
   "execution_count": 15,
   "id": "8ce73e93",
   "metadata": {},
   "outputs": [
    {
     "data": {
      "text/html": [
       "<div>\n",
       "<style scoped>\n",
       "    .dataframe tbody tr th:only-of-type {\n",
       "        vertical-align: middle;\n",
       "    }\n",
       "\n",
       "    .dataframe tbody tr th {\n",
       "        vertical-align: top;\n",
       "    }\n",
       "\n",
       "    .dataframe thead tr th {\n",
       "        text-align: left;\n",
       "    }\n",
       "</style>\n",
       "<table border=\"1\" class=\"dataframe\">\n",
       "  <thead>\n",
       "    <tr>\n",
       "      <th></th>\n",
       "      <th>Assembly Line</th>\n",
       "      <th colspan=\"2\" halign=\"left\">Time limit Crossed</th>\n",
       "    </tr>\n",
       "    <tr>\n",
       "      <th></th>\n",
       "      <th></th>\n",
       "      <th>sum</th>\n",
       "      <th>count</th>\n",
       "    </tr>\n",
       "  </thead>\n",
       "  <tbody>\n",
       "    <tr>\n",
       "      <th>0</th>\n",
       "      <td>A</td>\n",
       "      <td>20</td>\n",
       "      <td>136</td>\n",
       "    </tr>\n",
       "    <tr>\n",
       "      <th>1</th>\n",
       "      <td>B</td>\n",
       "      <td>34</td>\n",
       "      <td>157</td>\n",
       "    </tr>\n",
       "  </tbody>\n",
       "</table>\n",
       "</div>"
      ],
      "text/plain": [
       "  Assembly Line Time limit Crossed      \n",
       "                               sum count\n",
       "0             A                 20   136\n",
       "1             B                 34   157"
      ]
     },
     "execution_count": 15,
     "metadata": {},
     "output_type": "execute_result"
    }
   ],
   "source": [
    "# Determine the probabilities for Time limit Crossed in individual assemble lines and plot it using visualization.\n",
    "ad = data_no_outliers.groupby('Assembly Line').agg({'Time limit Crossed' : ['sum', 'count']}).reset_index()\n",
    "ad"
   ]
  },
  {
   "cell_type": "code",
   "execution_count": 16,
   "id": "ff838d04",
   "metadata": {},
   "outputs": [
    {
     "data": {
      "text/html": [
       "<div>\n",
       "<style scoped>\n",
       "    .dataframe tbody tr th:only-of-type {\n",
       "        vertical-align: middle;\n",
       "    }\n",
       "\n",
       "    .dataframe tbody tr th {\n",
       "        vertical-align: top;\n",
       "    }\n",
       "\n",
       "    .dataframe thead th {\n",
       "        text-align: right;\n",
       "    }\n",
       "</style>\n",
       "<table border=\"1\" class=\"dataframe\">\n",
       "  <thead>\n",
       "    <tr style=\"text-align: right;\">\n",
       "      <th></th>\n",
       "      <th>Assembly Line</th>\n",
       "      <th>Total_Time_limit_Crossed</th>\n",
       "      <th>Total_Observations</th>\n",
       "    </tr>\n",
       "  </thead>\n",
       "  <tbody>\n",
       "    <tr>\n",
       "      <th>0</th>\n",
       "      <td>A</td>\n",
       "      <td>20</td>\n",
       "      <td>136</td>\n",
       "    </tr>\n",
       "    <tr>\n",
       "      <th>1</th>\n",
       "      <td>B</td>\n",
       "      <td>34</td>\n",
       "      <td>157</td>\n",
       "    </tr>\n",
       "  </tbody>\n",
       "</table>\n",
       "</div>"
      ],
      "text/plain": [
       "  Assembly Line  Total_Time_limit_Crossed  Total_Observations\n",
       "0             A                        20                 136\n",
       "1             B                        34                 157"
      ]
     },
     "execution_count": 16,
     "metadata": {},
     "output_type": "execute_result"
    }
   ],
   "source": [
    "ad.columns = ['Assembly Line', 'Total_Time_limit_Crossed', 'Total_Observations']\n",
    "ad"
   ]
  },
  {
   "cell_type": "code",
   "execution_count": 17,
   "id": "089ab145",
   "metadata": {},
   "outputs": [
    {
     "data": {
      "text/html": [
       "<div>\n",
       "<style scoped>\n",
       "    .dataframe tbody tr th:only-of-type {\n",
       "        vertical-align: middle;\n",
       "    }\n",
       "\n",
       "    .dataframe tbody tr th {\n",
       "        vertical-align: top;\n",
       "    }\n",
       "\n",
       "    .dataframe thead th {\n",
       "        text-align: right;\n",
       "    }\n",
       "</style>\n",
       "<table border=\"1\" class=\"dataframe\">\n",
       "  <thead>\n",
       "    <tr style=\"text-align: right;\">\n",
       "      <th></th>\n",
       "      <th>Assembly Line</th>\n",
       "      <th>Total_Time_limit_Crossed</th>\n",
       "      <th>Total_Observations</th>\n",
       "      <th>Probability_of_Time_limit_Crossed</th>\n",
       "    </tr>\n",
       "  </thead>\n",
       "  <tbody>\n",
       "    <tr>\n",
       "      <th>0</th>\n",
       "      <td>A</td>\n",
       "      <td>20</td>\n",
       "      <td>136</td>\n",
       "      <td>0.147059</td>\n",
       "    </tr>\n",
       "    <tr>\n",
       "      <th>1</th>\n",
       "      <td>B</td>\n",
       "      <td>34</td>\n",
       "      <td>157</td>\n",
       "      <td>0.216561</td>\n",
       "    </tr>\n",
       "  </tbody>\n",
       "</table>\n",
       "</div>"
      ],
      "text/plain": [
       "  Assembly Line  Total_Time_limit_Crossed  Total_Observations  \\\n",
       "0             A                        20                 136   \n",
       "1             B                        34                 157   \n",
       "\n",
       "   Probability_of_Time_limit_Crossed  \n",
       "0                           0.147059  \n",
       "1                           0.216561  "
      ]
     },
     "execution_count": 17,
     "metadata": {},
     "output_type": "execute_result"
    }
   ],
   "source": [
    "ad['Probability_of_Time_limit_Crossed'] = ad.Total_Time_limit_Crossed / ad.Total_Observations\n",
    "ad"
   ]
  },
  {
   "cell_type": "code",
   "execution_count": 18,
   "id": "4ffddf4d",
   "metadata": {},
   "outputs": [
    {
     "data": {
      "image/png": "[encoded data removed]",
      "text/plain": [
       "<Figure size 800x500 with 2 Axes>"
      ]
     },
     "metadata": {},
     "output_type": "display_data"
    }
   ],
   "source": [
    "# Identify the correct distribution for the time limit crossed per assembly line.\n",
    "assembly_Line_colors = {'A': 'steelblue', 'B': 'orange'}\n",
    "fig, ax = plt.subplots(figsize = (8, 5))\n",
    "sns.lineplot(data = ad.Probability_of_Time_limit_Crossed, ax = ax, marker = \"o\")\n",
    "ax2 = ax.twinx()\n",
    "sns.barplot(data = ad, x = 'Assembly Line', y = 'Total_Observations', ax = ax2, alpha = 0.5, palette = assembly_Line_colors)\n",
    "ax.set_ylabel('Proportions for line plot')\n",
    "ax2.set_ylabel('Observations for bar plot')\n",
    "ax.set_xlabel('Assembly Line')\n",
    "plt.show()"
   ]
  },
  {
   "cell_type": "code",
   "execution_count": 19,
   "id": "93ba6f8d",
   "metadata": {},
   "outputs": [
    {
     "name": "stdout",
     "output_type": "stream",
     "text": [
      "The correlation between CO2 dissolved and Quantity in litres is : 0.05\n"
     ]
    }
   ],
   "source": [
    "# # What’s the correlation between CO2 dissolved and Quantity in litres? Round it off to 2 decimal places.\n",
    "# (Note: Include the Outliers also)\n",
    "from scipy.stats import pearsonr\n",
    "correlation_coefficient, _ = pearsonr(company_data['CO2 dissolved'], company_data['Quantity (lts.)'])\n",
    "correlation_coefficient = round(correlation_coefficient, 2)\n",
    "print('The correlation between CO2 dissolved and Quantity in litres is :',correlation_coefficient)"
   ]
  },
  {
   "cell_type": "code",
   "execution_count": 20,
   "id": "8305e0a2",
   "metadata": {},
   "outputs": [
    {
     "data": {
      "text/html": [
       "<div>\n",
       "<style scoped>\n",
       "    .dataframe tbody tr th:only-of-type {\n",
       "        vertical-align: middle;\n",
       "    }\n",
       "\n",
       "    .dataframe tbody tr th {\n",
       "        vertical-align: top;\n",
       "    }\n",
       "\n",
       "    .dataframe thead th {\n",
       "        text-align: right;\n",
       "    }\n",
       "</style>\n",
       "<table border=\"1\" class=\"dataframe\">\n",
       "  <thead>\n",
       "    <tr style=\"text-align: right;\">\n",
       "      <th></th>\n",
       "      <th>Id</th>\n",
       "      <th>Quantity (lts.)</th>\n",
       "      <th>CO2 dissolved</th>\n",
       "      <th>Time limit Crossed</th>\n",
       "    </tr>\n",
       "  </thead>\n",
       "  <tbody>\n",
       "    <tr>\n",
       "      <th>Id</th>\n",
       "      <td>1.000000</td>\n",
       "      <td>0.030649</td>\n",
       "      <td>-0.058282</td>\n",
       "      <td>-0.089417</td>\n",
       "    </tr>\n",
       "    <tr>\n",
       "      <th>Quantity (lts.)</th>\n",
       "      <td>0.030649</td>\n",
       "      <td>1.000000</td>\n",
       "      <td>0.046983</td>\n",
       "      <td>-0.027994</td>\n",
       "    </tr>\n",
       "    <tr>\n",
       "      <th>CO2 dissolved</th>\n",
       "      <td>-0.058282</td>\n",
       "      <td>0.046983</td>\n",
       "      <td>1.000000</td>\n",
       "      <td>-0.061760</td>\n",
       "    </tr>\n",
       "    <tr>\n",
       "      <th>Time limit Crossed</th>\n",
       "      <td>-0.089417</td>\n",
       "      <td>-0.027994</td>\n",
       "      <td>-0.061760</td>\n",
       "      <td>1.000000</td>\n",
       "    </tr>\n",
       "  </tbody>\n",
       "</table>\n",
       "</div>"
      ],
      "text/plain": [
       "                          Id  Quantity (lts.)  CO2 dissolved  \\\n",
       "Id                  1.000000         0.030649      -0.058282   \n",
       "Quantity (lts.)     0.030649         1.000000       0.046983   \n",
       "CO2 dissolved      -0.058282         0.046983       1.000000   \n",
       "Time limit Crossed -0.089417        -0.027994      -0.061760   \n",
       "\n",
       "                    Time limit Crossed  \n",
       "Id                           -0.089417  \n",
       "Quantity (lts.)              -0.027994  \n",
       "CO2 dissolved                -0.061760  \n",
       "Time limit Crossed            1.000000  "
      ]
     },
     "execution_count": 20,
     "metadata": {},
     "output_type": "execute_result"
    }
   ],
   "source": [
    "# Choose True or False for the statement below.\n",
    "# \"Almost all the correlations found within the dataframe are insignificant.”\n",
    "# First Method:\n",
    "company_data.corr(numeric_only = True)"
   ]
  },
  {
   "cell_type": "code",
   "execution_count": 21,
   "id": "4e3dbbae",
   "metadata": {},
   "outputs": [
    {
     "data": {
      "text/html": [
       "<div>\n",
       "<style scoped>\n",
       "    .dataframe tbody tr th:only-of-type {\n",
       "        vertical-align: middle;\n",
       "    }\n",
       "\n",
       "    .dataframe tbody tr th {\n",
       "        vertical-align: top;\n",
       "    }\n",
       "\n",
       "    .dataframe thead th {\n",
       "        text-align: right;\n",
       "    }\n",
       "</style>\n",
       "<table border=\"1\" class=\"dataframe\">\n",
       "  <thead>\n",
       "    <tr style=\"text-align: right;\">\n",
       "      <th></th>\n",
       "      <th>Id</th>\n",
       "      <th>Quantity (lts.)</th>\n",
       "      <th>CO2 dissolved</th>\n",
       "      <th>Time limit Crossed</th>\n",
       "    </tr>\n",
       "  </thead>\n",
       "  <tbody>\n",
       "    <tr>\n",
       "      <th>Id</th>\n",
       "      <td>1.000000</td>\n",
       "      <td>0.030649</td>\n",
       "      <td>-0.058282</td>\n",
       "      <td>-0.089417</td>\n",
       "    </tr>\n",
       "    <tr>\n",
       "      <th>Quantity (lts.)</th>\n",
       "      <td>0.030649</td>\n",
       "      <td>1.000000</td>\n",
       "      <td>0.046983</td>\n",
       "      <td>-0.027994</td>\n",
       "    </tr>\n",
       "    <tr>\n",
       "      <th>CO2 dissolved</th>\n",
       "      <td>-0.058282</td>\n",
       "      <td>0.046983</td>\n",
       "      <td>1.000000</td>\n",
       "      <td>-0.061760</td>\n",
       "    </tr>\n",
       "    <tr>\n",
       "      <th>Time limit Crossed</th>\n",
       "      <td>-0.089417</td>\n",
       "      <td>-0.027994</td>\n",
       "      <td>-0.061760</td>\n",
       "      <td>1.000000</td>\n",
       "    </tr>\n",
       "  </tbody>\n",
       "</table>\n",
       "</div>"
      ],
      "text/plain": [
       "                          Id  Quantity (lts.)  CO2 dissolved  \\\n",
       "Id                  1.000000         0.030649      -0.058282   \n",
       "Quantity (lts.)     0.030649         1.000000       0.046983   \n",
       "CO2 dissolved      -0.058282         0.046983       1.000000   \n",
       "Time limit Crossed -0.089417        -0.027994      -0.061760   \n",
       "\n",
       "                    Time limit Crossed  \n",
       "Id                           -0.089417  \n",
       "Quantity (lts.)              -0.027994  \n",
       "CO2 dissolved                -0.061760  \n",
       "Time limit Crossed            1.000000  "
      ]
     },
     "execution_count": 21,
     "metadata": {},
     "output_type": "execute_result"
    }
   ],
   "source": [
    "# Second Method:\n",
    "numeric_company_data = company_data.select_dtypes(include='number')\n",
    "\n",
    "correlation_matrix = numeric_company_data.corr()\n",
    "correlation_matrix"
   ]
  },
  {
   "cell_type": "code",
   "execution_count": 23,
   "id": "697a335b",
   "metadata": {},
   "outputs": [
    {
     "data": {
      "image/png": "[encoded data removed]",
      "text/plain": [
       "<Figure size 400x400 with 1 Axes>"
      ]
     },
     "metadata": {},
     "output_type": "display_data"
    }
   ],
   "source": [
    "# Please select the correct bar plot defining the relationship between Assembly line and CO2 dissolved.\n",
    "assembly_Line_colors = {'A': 'steelblue', 'B': 'orange'}\n",
    "sns.set_style(\"whitegrid\", {'axes.grid' : False})\n",
    "# Interchange two values on the x-axis\n",
    "index1 = company_data[company_data['Assembly Line'] == 'B'].index[0]\n",
    "index2 = company_data[company_data['Assembly Line'] == 'A'].index[0]\n",
    "company_data.loc[index1], company_data.loc[index2] = company_data.loc[index2], company_data.loc[index1]\n",
    "plt.figure(figsize = (4,4))\n",
    "dataset_compare = sns.barplot(x = company_data['Assembly Line'], y = company_data['CO2 dissolved'], palette = assembly_Line_colors, ci = None, estimator='mean')\n",
    "plt.xlabel(\"Assembly Line\")\n",
    "plt.ylabel(\"CO2 dissolved\")\n",
    "plt.tight_layout()\n",
    "plt.show()"
   ]
  },
  {
   "cell_type": "markdown",
   "id": "1e5ceac4",
   "metadata": {},
   "source": [
    "Purpose: Bivariate Analysis is an important tool to understand the associations between variables. Here we can easily witness that there aren’t any significant correlations between numerical variables but we do have some differences in terms of carbonation and number of bottles that are crossing the time limit indicating the issues within the pipelines (though one of the issues could be due to a set of outliers). In later parts of the problem, we will more closely analyse distribution of quantity in litres with respect to assembly lines due to industrial requirement.\n",
    "\n",
    "Challenge Yourself! Try to perform the analysis of time limit crossed with respect to quantity and CO2 dissolved and see if they seem to pose a problem for higher time limit or not.\n",
    "\n",
    "This is what we call Univariate and Bivariate Analysis which is a part of EDA.\n",
    "\n",
    "Kudos for your bravery! One of the very important traits of the data scientist is the ability to find information autonomously. In this course we’ll try to focus on the most fundamental and essential formulas and tools - however, in your real work you will do this several times in a day. So one of our goals is to develop self-learning skills that will be super useful both in your studies and in your work life."
   ]
  },
  {
   "cell_type": "code",
   "execution_count": 24,
   "id": "34f160f2",
   "metadata": {},
   "outputs": [
    {
     "name": "stdout",
     "output_type": "stream",
     "text": [
      "Lower cutoff (excluding outliers): 10.06\n",
      "Upper cutoff (excluding outliers): 18.19\n"
     ]
    }
   ],
   "source": [
    "# Identify the correct upper and lower cut off within CO2 dissolved using IQR rule to exclude the outliers.\n",
    "# Round off to 2 decimal places.\n",
    "Q1 = company_data['CO2 dissolved'].quantile(0.25) # Calculate the first quartile (Q1)\n",
    "\n",
    "Q3 = company_data['CO2 dissolved'].quantile(0.75) # Calculate the third quartile (Q3)\n",
    "\n",
    "IQR = Q3 - Q1 # Calculate the Interquartile Range (IQR)\n",
    "\n",
    "upper_cutoff = Q3 + 1.5 * IQR # Calculate the upper cutoff\n",
    "\n",
    "lower_cutoff = Q1 - 1.5 * IQR # Calculate the lower cutoff\n",
    "\n",
    "print(\"Lower cutoff (excluding outliers):\", round(lower_cutoff, 2))\n",
    "print(\"Upper cutoff (excluding outliers):\", round(upper_cutoff, 2))"
   ]
  },
  {
   "cell_type": "code",
   "execution_count": 25,
   "id": "60c20b02",
   "metadata": {},
   "outputs": [
    {
     "name": "stdout",
     "output_type": "stream",
     "text": [
      "After treatment with the outliers, the mean value for CO2 dissolved variable is: 14.0\n"
     ]
    }
   ],
   "source": [
    "# After treatment with the outliers, what’s the mean value for CO2 dissolved variable?\n",
    "mean_CO2_dissolved = round(data_no_outliers['CO2 dissolved'].mean(), 1)\n",
    "print('After treatment with the outliers, the mean value for CO2 dissolved variable is:',mean_CO2_dissolved)"
   ]
  },
  {
   "cell_type": "markdown",
   "id": "373df8e5",
   "metadata": {},
   "source": [
    "Purpose: Identifying the cut off values in order to deal with outliers are a great way to restrict the data. Now, it depends on the domain/context of the problem that we want to restrict the data to these cut off values or not.\n",
    "\n",
    "Do understand that these congestion rates are part of a realistic scenario and not because of some error in the data. Therefore, it's better to continue with the analysis as such.\n",
    "\n",
    "Challenge Yourself! Perform the similar steps as above but this time use z-score or standard deviation rule to get rid of the outliers. Are 2 methods giving similar output?"
   ]
  },
  {
   "cell_type": "code",
   "execution_count": 26,
   "id": "051af4e7",
   "metadata": {},
   "outputs": [
    {
     "name": "stdout",
     "output_type": "stream",
     "text": [
      "Probabilities of Time Limit Crossed for each Assembly Line:\n",
      "Assembly Line  Time limit Crossed\n",
      "A              0                     0.852941\n",
      "               1                     0.147059\n",
      "B              0                     0.783439\n",
      "               1                     0.216561\n",
      "Name: proportion, dtype: float64\n"
     ]
    }
   ],
   "source": [
    "# Let’s first try to understand the Time limit crossed per assembly line.\n",
    "# Please identify the respective probabilities for each assembly line [Hint: Use value_counts]\n",
    "probabilities = data_no_outliers.groupby('Assembly Line')['Time limit Crossed'].value_counts(normalize=True)\n",
    "\n",
    "print(\"Probabilities of Time Limit Crossed for each Assembly Line:\")\n",
    "print(probabilities)"
   ]
  },
  {
   "cell_type": "code",
   "execution_count": 27,
   "id": "db0259a5",
   "metadata": {},
   "outputs": [
    {
     "name": "stdout",
     "output_type": "stream",
     "text": [
      "Probability that 10 bottles crossed the time limit out of a sample of 50 bottles on Assembly line B is: 0.14\n"
     ]
    }
   ],
   "source": [
    "# Now considering the probabilities calculated in previous questions,\n",
    "# Please calculate the probability that 10 bottles crossed the time limit out of a sample of 50 bottles on Assembly line B.\n",
    "# Round it off to 2 decimal places.\n",
    "from scipy.stats import binom\n",
    "p = 0.21\n",
    "n = 50\n",
    "k = 10\n",
    "probability = round(binom.pmf(k, n, p), 2)\n",
    "print('Probability that 10 bottles crossed the time limit out of a sample of 50 bottles on Assembly line B is:',probability)"
   ]
  },
  {
   "cell_type": "code",
   "execution_count": 28,
   "id": "4d60e4cc",
   "metadata": {},
   "outputs": [
    {
     "name": "stdout",
     "output_type": "stream",
     "text": [
      "Probability that 10 bottles crossed the time limit out of a sample of 50 bottles on Assembly line A is: 0.07\n"
     ]
    }
   ],
   "source": [
    "# Please calculate the probability that 10 bottles crossed the time limit out of a sample of 50 bottles on Assembly line A. \n",
    "# Round it off to 2 decimal places.\n",
    "from scipy.stats import binom\n",
    "p = 0.14\n",
    "n = 50\n",
    "k = 10\n",
    "probability = round(binom.pmf(k, n, p), 2)\n",
    "print('Probability that 10 bottles crossed the time limit out of a sample of 50 bottles on Assembly line A is:',probability)"
   ]
  },
  {
   "cell_type": "code",
   "execution_count": 29,
   "id": "8bd77410",
   "metadata": {},
   "outputs": [
    {
     "name": "stdout",
     "output_type": "stream",
     "text": [
      "Probability that at least 10 bottles crossed the time limit out of a sample of 50 bottles on Assembly line B: 0.49\n"
     ]
    }
   ],
   "source": [
    "# Please calculate the probability that at least 10 bottles crossed the time limit out of a sample of 50 bottles on Assembly line B.\n",
    "# Round it off to 2 decimal places.\n",
    "from scipy.stats import binom\n",
    "p = 0.21\n",
    "n = 50\n",
    "k = 10\n",
    "probability = round(1 - binom.cdf(k, n, p), 2)\n",
    "print('Probability that at least 10 bottles crossed the time limit out of a sample of 50 bottles on Assembly line B:',probability)"
   ]
  },
  {
   "cell_type": "code",
   "execution_count": 30,
   "id": "729a032a",
   "metadata": {},
   "outputs": [
    {
     "name": "stdout",
     "output_type": "stream",
     "text": [
      "Probability that at least 10 bottles crossed the time limit out of a sample of 50 bottles on Assembly line A is: 0.08\n"
     ]
    }
   ],
   "source": [
    "# Please calculate the probability that at least 10 bottles crossed the time limit out of a sample of 50 bottles on Assembly line A.\n",
    "# Round it off to 2 decimal places.\n",
    "from scipy.stats import binom\n",
    "p = 0.14\n",
    "n = 50\n",
    "k = 10\n",
    "probability = round(1 - binom.cdf(k, n, p), 2)\n",
    "print('Probability that at least 10 bottles crossed the time limit out of a sample of 50 bottles on Assembly line A is:',probability)"
   ]
  },
  {
   "cell_type": "markdown",
   "id": "19169a2c",
   "metadata": {},
   "source": [
    "Purpose: By analysing these individual probabilities, we can understand that out of a randomly selected cohort of bottles, what are the chances of crossing the time limit within individual assembly lines. This clearly indicates we may need to further investigate the root cause of taking higher time on assembly line B compared to A.\n",
    "\n",
    "In 2 Litre soft drink bottles, the drink filled is close to normally distributed. If bottles contain less than 95% of the listed net content (around 1.90 litres), the manufacturer may be penalised by the state office of consumer affairs. Bottles that have a net quantity above 2.1 litres may cause excess spillage upon opening. Evaluate the following:"
   ]
  },
  {
   "cell_type": "code",
   "execution_count": 31,
   "id": "e55fc694",
   "metadata": {},
   "outputs": [
    {
     "name": "stdout",
     "output_type": "stream",
     "text": [
      "Probability that the bottle content can be either penalised or have spillage is: 0.04\n"
     ]
    }
   ],
   "source": [
    "# What is the probability that the bottle content can be either penalised or have spillage? Round it off to 2 decimal places.\n",
    "# [Hint: Use mean and SD for quantity variable after outlier removal]\n",
    "from scipy.stats import norm\n",
    "mean_quantity = data_no_outliers['Quantity (lts.)'].mean()\n",
    "std_dev_quantity = data_no_outliers['Quantity (lts.)'].std()\n",
    "# Calculate the probability of being penalized (less than 1.90 litres)\n",
    "values_in_ltr1 = 1.90\n",
    "penalized_probability = norm.cdf(1.90, loc=mean_quantity, scale=std_dev_quantity)\n",
    "\n",
    "# Calculate the probability of spillage (more than 2.10 litres)\n",
    "values_in_ltr2 = 2.1\n",
    "spillage_probability = 1 - norm.cdf(2.10, loc=mean_quantity, scale=std_dev_quantity)\n",
    "\n",
    "# Calculate the overall probability of either event occurring\n",
    "probability = penalized_probability + spillage_probability\n",
    "print('Probability that the bottle content can be either penalised or have spillage is:',round(probability, 2))"
   ]
  },
  {
   "cell_type": "code",
   "execution_count": 32,
   "id": "7e8f5c72",
   "metadata": {},
   "outputs": [
    {
     "name": "stdout",
     "output_type": "stream",
     "text": [
      "Probability that the bottle content is in between 1.95 litres and 2.05 litres is: 0.7\n"
     ]
    }
   ],
   "source": [
    "# What is the probability that the bottle content is in between 1.95 litres and 2.05 litres? Round it off to 2 decimal places.\n",
    "# Calculate the probability of being penalized (less than or equal to 1.95 litres)\n",
    "mean_quantity = data_no_outliers['Quantity (lts.)'].mean()\n",
    "std_dev_quantity = data_no_outliers['Quantity (lts.)'].std()\n",
    "# Calculate the probability of spillage (less than or equal to 1.95 litres)\n",
    "values_in_ltr1 = 1.95\n",
    "z_score1 = (values_in_ltr1 - mean_quantity) / std_dev_quantity\n",
    "prob1 = norm.cdf(z_score1)\n",
    "\n",
    "# Calculate the probability of spillage (less than or equal to 2.05 litres)\n",
    "values_in_ltr2 = 2.05\n",
    "z_score2 = (values_in_ltr2 - mean_quantity) / std_dev_quantity\n",
    "prob2 = norm.cdf(z_score2)\n",
    "\n",
    "probability_between_1_95_and_2_05 = prob2 - prob1\n",
    "print('Probability that the bottle content is in between 1.95 litres and 2.05 litres is:',round(probability_between_1_95_and_2_05, 2))"
   ]
  },
  {
   "cell_type": "code",
   "execution_count": 33,
   "id": "321a8ec8",
   "metadata": {},
   "outputs": [
    {
     "name": "stdout",
     "output_type": "stream",
     "text": [
      "90% Confidence Interval for the average of Hrs variable: (1.92, 2.08)\n"
     ]
    }
   ],
   "source": [
    "# Calculate the 90% interval estimate for the Quantity variable.\n",
    "import scipy.stats as stats\n",
    "sample_mean = data_no_outliers['Quantity (lts.)'].mean()\n",
    "sample_std_dev = data_no_outliers['Quantity (lts.)'].std()\n",
    "# Calculate the sample size\n",
    "sample_size = len(data_no_outliers)\n",
    "z_score = 1.645\n",
    "confidence_interval = (round(sample_mean - 1.645 * sample_std_dev,2),round(sample_mean + 1.645 * sample_std_dev,2))\n",
    "print(\"90% Confidence Interval for the average of Hrs variable:\", confidence_interval)"
   ]
  }
 ],
 "metadata": {
  "kernelspec": {
   "display_name": "Python 3 (ipykernel)",
   "language": "python",
   "name": "python3"
  },
  "language_info": {
   "codemirror_mode": {
    "name": "ipython",
    "version": 3
   },
   "file_extension": ".py",
   "mimetype": "text/x-python",
   "name": "python",
   "nbconvert_exporter": "python",
   "pygments_lexer": "ipython3",
   "version": "3.11.5"
  }
 },
 "nbformat": 4,
 "nbformat_minor": 5
}
